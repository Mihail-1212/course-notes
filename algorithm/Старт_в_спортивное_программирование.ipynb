{
  "nbformat": 4,
  "nbformat_minor": 0,
  "metadata": {
    "colab": {
      "provenance": [],
      "toc_visible": true,
      "authorship_tag": "ABX9TyOf9Kjnzd7KpPuOKPY6MbFw",
      "include_colab_link": true
    },
    "kernelspec": {
      "name": "python3",
      "display_name": "Python 3"
    },
    "language_info": {
      "name": "python"
    }
  },
  "cells": [
    {
      "cell_type": "markdown",
      "metadata": {
        "id": "view-in-github",
        "colab_type": "text"
      },
      "source": [
        "<a href=\"https://colab.research.google.com/github/Mihail-1212/course-notes/blob/main/algorithm/%D0%A1%D1%82%D0%B0%D1%80%D1%82_%D0%B2_%D1%81%D0%BF%D0%BE%D1%80%D1%82%D0%B8%D0%B2%D0%BD%D0%BE%D0%B5_%D0%BF%D1%80%D0%BE%D0%B3%D1%80%D0%B0%D0%BC%D0%BC%D0%B8%D1%80%D0%BE%D0%B2%D0%B0%D0%BD%D0%B8%D0%B5.ipynb\" target=\"_parent\"><img src=\"https://colab.research.google.com/assets/colab-badge.svg\" alt=\"Open In Colab\"/></a>"
      ]
    },
    {
      "cell_type": "markdown",
      "source": [
        "# Базовые алгоритмы"
      ],
      "metadata": {
        "id": "OfQjrvIdtgMI"
      }
    },
    {
      "cell_type": "markdown",
      "source": [
        "## Асимптотика\n",
        "\n",
        "Решение задачи - программа, которая:\n",
        "- считывает данные с консоли\n",
        "- производит некоторые вычисления\n",
        "- печатает ответ на экран\n",
        "\n",
        "Измерение времени работы:\n",
        "\n",
        "- использование верхней оценки на точное количество действий\n",
        "- функция эффективности определяется с точностью до мультипликативной константы (постоянные числа, то есть числа, которые не изменяются)\n",
        "\n",
        "[Мультипликативные константы](https://www.mathnet.ru/links/72a744294ca65cca95f33466e4728612/im2459.pdf)\n",
        "\n",
        "Практическая оценка времени работы:\n",
        "\n",
        "- Вычисляется асимптотика алгоритма, например O(f(n))\n",
        "- Игнорируется константа; в f подстовляются максимально возможные значения; получение C (это **грубая оценка на количество действий**)\n",
        "\n",
        "Психологическая граница скорости алгоритма с ограничением в 2 секунды - $10^8$:\n",
        "- Если C значительно меньше, то программа сработает быстро\n",
        "- Если C значительно больше, то программа сработает медленно и не уложится в заданное время"
      ],
      "metadata": {
        "id": "pDXpKVSIsHPR"
      }
    },
    {
      "cell_type": "markdown",
      "source": [
        "## Линейные алгоритмы\n",
        "\n",
        "Это алгоритмы, которые работают за O(n)"
      ],
      "metadata": {
        "id": "AgqsHuJGvGDO"
      }
    },
    {
      "cell_type": "markdown",
      "source": [
        "### Задача о поиске максимума\n",
        "\n",
        "1. Дано целое число n, не превосходящее по $10^7$, а затем n целых чисел, разделенных пробелами, не превосходящих по модулю $10^9$\n",
        "\n",
        "2. Требуется написать одно число - максимум из введенных чисел\n",
        "\n",
        "Решение: проходимся по массиву 1 раз, и сравниваем каждое значение с максимальным значением (которое храним) и если наше меньше - перезаписываем"
      ],
      "metadata": {
        "id": "H1ItnXdwvPTj"
      }
    },
    {
      "cell_type": "markdown",
      "source": [
        "#### Задача 1\n",
        "\n",
        "В этой задаче все предельно просто - дан массив, требуется посчитать сумму чисел в нем.\n",
        "\n",
        "В первой строке входных данных записано единственное целое число n - количество чисел в массиве.\n",
        "\n",
        "В следующей строке записано n целых чисел $a_{i}$ - элементы массива\n",
        "\n",
        "Выведите одно число - сумму всех элементов массива"
      ],
      "metadata": {
        "id": "MuiD3wM_-737"
      }
    },
    {
      "cell_type": "code",
      "source": [
        "#include <iostream>\n",
        "\n",
        "using namespace std;\n",
        "\n",
        "int n;\n",
        "int arr[10000000];\n",
        "\n",
        "int main()\n",
        "{\n",
        "\tios_base::sync_with_stdio(0);\n",
        "\tcin.tie(0);\n",
        "\n",
        "\tcin >> n;\n",
        "\tlong sum = 0;\n",
        "\tfor (int i = 0; i < n; i++) {\n",
        "\t\tcin >> arr[i];\n",
        "\t\tsum += arr[i];\n",
        "\t}\n",
        "\n",
        "\tcout << sum <<\"\\n\";\n",
        "}\n",
        "\n"
      ],
      "metadata": {
        "colab": {
          "base_uri": "https://localhost:8080/"
        },
        "id": "sEZVtqMN5XrV",
        "outputId": "61cf008f-bdae-4da3-a1df-1aab67dcf7e8"
      },
      "execution_count": null,
      "outputs": [
        {
          "output_type": "stream",
          "name": "stdout",
          "text": [
            "Writing program1.cpp\n"
          ]
        }
      ]
    },
    {
      "cell_type": "markdown",
      "source": [
        "#### Задача 2\n",
        "\n",
        "Дан массив, требуется найти позицию максимального элемента. Если таких позиций несколько, найдите самую первую.\n",
        "\n",
        "В первой строке входных данных записано единственное целое число n ($ 1 \\leq n \\leq 10^5 $) - количество чисел в массиве.\n",
        "\n",
        "В следующей строке записано n целых чисел $a_{i}$ ($ 1 \\leq a_{i} \\leq 10^9 $) - элементы массива\n",
        "\n",
        "Выведите одно число - позицию первого максимума.\n",
        "\n"
      ],
      "metadata": {
        "id": "Es7Tn6Td_KKq"
      }
    },
    {
      "cell_type": "code",
      "source": [
        "#include <iostream>\n",
        "\n",
        "using namespace std;\n",
        "\n",
        "long max_val = -1;\n",
        "\n",
        "int n, t, max_id = -1;\n",
        "\n",
        "int main()\n",
        "{\n",
        "\tios_base::sync_with_stdio(0);\n",
        "\tcin.tie(0);\n",
        "\n",
        "\tcin >> n;\n",
        "\tfor (int i = 0; i < n; i++) {\n",
        "\t\tcin >> t;\n",
        "\t\tif (t > max_val) {\n",
        "\t\t\tmax_id = i;\n",
        "\t\t\tmax_val = t;\n",
        "\t\t}\n",
        "\t}\n",
        "\n",
        "\tcout << max_id +1 <<\"\\n\";\n",
        "}"
      ],
      "metadata": {
        "id": "KXfpTi46-69W"
      },
      "execution_count": null,
      "outputs": []
    },
    {
      "cell_type": "markdown",
      "source": [
        "#### Задача 3\n",
        "\n",
        "Дан массив. Вам требуется определить позиции первого максимума и второго максимума.\n",
        "\n",
        "В первой строке входных данных записано единственное целое число n ($ 2 \\leq n \\leq 10^7 $) - количество чисел в массиве.\n",
        "\n",
        "Во второй строчке записаны три целых числа $ cur, a, b (0 \\leq cur,a,b < 1791791791)$\n",
        "\n",
        "\n",
        "```\n",
        "# python\n",
        "mod = 1791791791\n",
        "def next_rand():\n",
        "    cur = (cur * a + b) % mod\n",
        "    return cur\n",
        "```\n",
        "\n",
        "Тогда массив генерируется последовательностью вызовов функции\n",
        "\n",
        "\n",
        "\n",
        "```\n",
        "for i in 1..n\n",
        "    a[i] = NextRand()\n",
        "```\n",
        "\n",
        "Выведите два числа через пробел - позицию первого и позицию второго максимума соответственно. Если таких позиций несколько, то вам следует вывести самую левую позицию максимума и самую левую позицию второго максимума.\n",
        "\n",
        "\n",
        "\n",
        "\n",
        "\n"
      ],
      "metadata": {
        "id": "506fw28bAVob"
      }
    },
    {
      "cell_type": "code",
      "source": [
        "# Решение на питоне, но не подходит по времени\n",
        "n = int(input())\n",
        "cur, a, b = map(int, input().split())\n",
        "\n",
        "mod = 1791791791\n",
        "def next_rand():\n",
        "    global cur\n",
        "    cur = (cur * a + b) % mod\n",
        "    return cur\n",
        "\n",
        "arr = []\n",
        "max_val = -1\n",
        "max_ind = -1\n",
        "for i in range(n):\n",
        "    item = next_rand()\n",
        "    if max_val < item:\n",
        "        max_val = item\n",
        "        max_ind = i\n",
        "    arr.append(item)\n",
        "    \n",
        "second_max_val = -1\n",
        "second_max_ind = -1\n",
        "\n",
        "for ind, item in enumerate(arr):\n",
        "    if second_max_val < item and ind != max_ind:\n",
        "        second_max_val = item\n",
        "        second_max_ind = ind\n",
        "\n",
        "print(max_ind+1, second_max_ind+1)\n"
      ],
      "metadata": {
        "id": "fKD3nbu9C8Sd"
      },
      "execution_count": null,
      "outputs": []
    },
    {
      "cell_type": "code",
      "source": [
        "#include <iostream>\n",
        "\n",
        "using namespace std;\n",
        "\n",
        "const long MAX_COUNT = 10000500;\n",
        "\n",
        "\n",
        "long n, a, b, cur;\n",
        "int mod = 1791791791;\n",
        "long arr[MAX_COUNT];\n",
        "\n",
        "long maxVal = -1, maxInd = -1;\n",
        "long secondMaxVal = -1, secondMaxInd = -1;\n",
        "\n",
        "int main()\n",
        "{\n",
        "\tios_base::sync_with_stdio(0);\n",
        "\tcin.tie(0);\n",
        "\n",
        "\tcin >> n;\n",
        "    cin >> cur;\n",
        "    cin >> a;\n",
        "    cin >> b;\n",
        "    \n",
        "\tfor (int i = 0; i < n; i++) {\n",
        "        cur = (cur * a + b) % mod;\n",
        "        long item = cur; \n",
        "        arr[i] = item;\n",
        "\t\tif (maxVal < item) {\n",
        "\t\t\tmaxVal = item;\n",
        "\t\t\tmaxInd = i;\n",
        "\t\t}\n",
        "\t}\n",
        "    \n",
        "    for (int i = 0; i < n; i++) {\n",
        "        long item = arr[i];\n",
        "        if (secondMaxVal < item && i != maxInd) {\n",
        "            secondMaxVal = item;\n",
        "            secondMaxInd = i;\n",
        "        }\n",
        "    }\n",
        "\n",
        "\tcout << maxInd+1 << \" \" << secondMaxInd+1 <<\"\\n\";\n",
        "}"
      ],
      "metadata": {
        "id": "pjqdKW9gBC7w"
      },
      "execution_count": null,
      "outputs": []
    },
    {
      "cell_type": "markdown",
      "source": [
        "### Задача сумма на подотрезке\n",
        "\n",
        "Даны:\n",
        "\n",
        "- Целое положительное число $ n \\leq 10^5 $\n",
        "- Массив из n целых чисел, не превосходящих **по модулю** $ 10^9 $\n",
        "- Целое положительное число $ q \\leq 10^5 $\n",
        "- q запросов вида $ [l, r] $, где $ 1 \\leq l \\leq r \\leq n$\n",
        "\n",
        "Для каждого из запросов вывести сумму $ a[l] + a[l+1] + ... a[r-1] + a[r] $\n",
        "\n",
        "Нативное решение - считать и сохранить числа в массиве и далее для каждого запроса в цикле for найти ответ - будет работать за O(nq).\n",
        "\n",
        "Решение: использовать метод частичных сумм\n",
        "\n",
        "$ partSum[i] = a[0] + a[1] + ... + a[i] $\n",
        "\n",
        "Для удобства $ partSum[0] = 0 $\n",
        "\n",
        "P.S. Для ускорения работы: $ partSum[i] = partSum[i-1] + a[i] $\n",
        "\n",
        "Если частичные суммы насчитаны, то;\n",
        "\n",
        "$ a[l] + ... + a[r] = partSum[r] - partSum[l-1]  $,\n",
        "\n",
        "Доказательство\n",
        "\n",
        "![image.png](data:image/png;base64,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)!"
      ],
      "metadata": {
        "id": "H0kJ4Gx8FSn0"
      }
    },
    {
      "cell_type": "markdown",
      "source": [
        "\n",
        "#### Задача 1\n",
        "\n",
        "В этой задаче вам нужно будет много раз отвечать на запрос <<Найдите сумму чисел на отрезке в массиве>>.\n",
        "\n",
        "\n",
        "В первой строке записано два целых числа n и q - размер массива и количество запросов\n",
        "\n",
        "Во второй строке записаны n целых чисел $ a_{i} $ - массив\n",
        "\n",
        "Далее в q строках описаны запросы к массиву. Каждый запрос описывается двумя числами l и r - левой и правой границей отрезка, на котором нужно найти сумму.\n",
        "\n",
        "Для каждого запроса в отдельной строке выведите единственное число - сумму на соответствующем отрезке.\n",
        "\n",
        "\n",
        "  "
      ],
      "metadata": {
        "id": "z_3rSBS1M9eG"
      }
    },
    {
      "cell_type": "code",
      "source": [
        "# Решение python\n",
        "n, q = map(int, input().split())\n",
        "arr = map(int, input().split())\n",
        "\n",
        "partSum = [0]\n",
        "\n",
        "for ind, item in enumerate(arr):\n",
        "    partSum.append(partSum[-1] + item)\n",
        "\n",
        "result = []\n",
        "\n",
        "for i in range(q):\n",
        "    l, r = map(int, input().split())\n",
        "    result.append( partSum[r] - partSum[l-1] )\n",
        "    \n",
        "for i in result:\n",
        "    print(i)\n",
        "\n"
      ],
      "metadata": {
        "id": "zO4etCegMTxi"
      },
      "execution_count": null,
      "outputs": []
    },
    {
      "cell_type": "code",
      "source": [
        "#include <iostream>\n",
        "\n",
        "using namespace std;\n",
        "\n",
        "const long MAX_COUNT = 10000500;\n",
        "\n",
        "\n",
        "long n, q;\n",
        "long partSum[MAX_COUNT];\n",
        "\n",
        "\n",
        "int main()\n",
        "{\n",
        "\tios_base::sync_with_stdio(0);\n",
        "\tcin.tie(0);\n",
        "\n",
        "\tcin >> n;\n",
        "    cin >> q;\n",
        "    partSum[0] = 0;\n",
        "    \n",
        "\tfor (int i = 0; i < n; i++) {\n",
        "        long item;\n",
        "        cin >> item;\n",
        "        \n",
        "        partSum[i+1] = partSum[i] + item;\n",
        "\t}\n",
        "    \n",
        "    for (int j = 0; j < q; j++) {\n",
        "        long l, r;\n",
        "        \n",
        "        cin >> l;\n",
        "        cin >> r;\n",
        "        \n",
        "        long res = partSum[r] - partSum[l-1];\n",
        "        \n",
        "        cout << res << \"\\n\";\n",
        "    }\n",
        "}"
      ],
      "metadata": {
        "id": "g1O2EzWxNVCU"
      },
      "execution_count": null,
      "outputs": []
    },
    {
      "cell_type": "markdown",
      "source": [
        "#### Задача 2\n",
        "\n",
        "В этой задаче вам требуется найти непустой отрезок массива с максимальной суммой.\n",
        "\n",
        "Выведите одно число - максимальную сумму на отрезке в данном массиве\n",
        "\n",
        "Решение: для поиска максимальной суммы нужно для каждого $ partSum[i] $ найти минимум на отрезке $ partSum[0] ... partSum[i-1] $, и их разность сравнить с имеющимся максимумом.\n",
        "\n",
        "[Ссылка на алгоритм](https://e-maxx.ru/algo/maximum_average_segment)\n",
        "\n",
        "P.S. буду сразу на c++ писать"
      ],
      "metadata": {
        "id": "ObfZvLKiQXKe"
      }
    },
    {
      "cell_type": "code",
      "source": [
        "#include <iostream>\n",
        "#include <algorithm>\n",
        "\n",
        "using namespace std;\n",
        "\n",
        "int n;\n",
        "long long value, min_sum, sum, answ;\n",
        "long const MAX_VALUE = 10000000001;\n",
        "\n",
        "int main()\n",
        "{\n",
        "\tios_base::sync_with_stdio(0);\n",
        "\tcin.tie(0);\n",
        "\tcin >> n;\n",
        "\tmin_sum = 0;\n",
        "\tsum = 0;\n",
        "\tansw = -MAX_VALUE;\n",
        "\tfor (int i = 0; i < n; i++) {\n",
        "\t\tcin >> value;\n",
        "\t\tsum += value;\n",
        "\t\tif (answ < (sum - min_sum))\n",
        "\t\t\tansw = sum - min_sum;\n",
        "\t\tif (min_sum > sum)\n",
        "\t\t\tmin_sum = sum;\n",
        "\t}\n",
        "\tcout << answ;\n",
        "\treturn 0;\n",
        "}"
      ],
      "metadata": {
        "id": "-VWzpBj1QiFd"
      },
      "execution_count": null,
      "outputs": []
    },
    {
      "cell_type": "markdown",
      "source": [
        "#### Задача 3\n",
        "\n",
        "Владислав заметил, что в 2020-м году целых две пары одинаковых символов - 2 и 0На основании этого он возненавидел цифры 2 и 0, а также ситуацию, когда в году есть одинаковые цифры. Сейчас Владислав ждет следующего года, в котором нет цифр 2 и 0, а также все цифры попарно различны. Посчитайте, в каком году это случится первый раз?\n",
        "\n",
        "В первой строке входных данных записано единственное целое число n\n",
        "\n",
        "Выведите одно число - следующий год\n",
        "Если больше такого года никогда не будет, выведите <<-1>> (без кавычек).\n",
        "\n",
        "Решение: -1 выводим, если год больше 98765431 (без 2 и 0 по условию)\n",
        "\n",
        "В других ситуациях: "
      ],
      "metadata": {
        "id": "LshTwKjQUQJG"
      }
    },
    {
      "cell_type": "code",
      "source": [
        "def chacnge_i(m):\n",
        "    i=0\n",
        "    while m != 0:\n",
        "        m= int(m/10)\n",
        "        i+=1\n",
        "    return i\n",
        "\n",
        "def check(m):\n",
        "    ar=[0,2]\n",
        "    i = chacnge_i(m)\n",
        "    global kolvo\n",
        "    kolvo += 1\n",
        "    for j in range(i-1, -1, -1):\n",
        "        numb = m//(10**j)%10#число\n",
        "        if numb in ar:\n",
        "            #print(\"Изменение: \"+str(int((m+10**j)/10**j)*10**j))\n",
        "            return check(int(str(int((m+10**j)/10**j)*10**j)))\n",
        "        else:\n",
        "            ar.append(numb)\n",
        "    return m\n",
        "kolvo = 0\n",
        "n = int(input())\n",
        "m = n\n",
        "if m <= 98765431:\n",
        "    m = check(m)\n",
        "    if kolvo == 1:\n",
        "        m += 1\n",
        "        if m <= 98765431:\n",
        "            m = check(m)\n",
        "            print(m)\n",
        "        else: \n",
        "            print(-1)\n",
        "    else:\n",
        "        print(m)\n",
        "else:\n",
        "    print(-1) "
      ],
      "metadata": {
        "id": "y6Qm0P24VsMm"
      },
      "execution_count": null,
      "outputs": []
    }
  ]
}