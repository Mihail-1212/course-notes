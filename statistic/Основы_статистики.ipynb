{
  "nbformat": 4,
  "nbformat_minor": 0,
  "metadata": {
    "colab": {
      "provenance": [],
      "toc_visible": true,
      "authorship_tag": "ABX9TyO3ZFcr/XsFJCTwCdAXLFwl",
      "include_colab_link": true
    },
    "kernelspec": {
      "name": "python3",
      "display_name": "Python 3"
    },
    "language_info": {
      "name": "python"
    }
  },
  "cells": [
    {
      "cell_type": "markdown",
      "metadata": {
        "id": "view-in-github",
        "colab_type": "text"
      },
      "source": [
        "<a href=\"https://colab.research.google.com/github/Mihail-1212/course-notes/blob/main/statistic/%D0%9E%D1%81%D0%BD%D0%BE%D0%B2%D1%8B_%D1%81%D1%82%D0%B0%D1%82%D0%B8%D1%81%D1%82%D0%B8%D0%BA%D0%B8.ipynb\" target=\"_parent\"><img src=\"https://colab.research.google.com/assets/colab-badge.svg\" alt=\"Open In Colab\"/></a>"
      ]
    },
    {
      "cell_type": "markdown",
      "source": [
        "# Введение в статистику"
      ],
      "metadata": {
        "id": "Y7RYTbXb8RX6"
      }
    },
    {
      "cell_type": "markdown",
      "source": [
        "## Генеральная совокупность и выборка\n",
        "\n",
        "Генеральная совокупность - это множество объектов, относительно которых делаются выводы в рамках исследований некоторой научной проблемы.\n",
        "\n",
        "**Например:** Узнать как определенное событие повлияло на жизнь совершеннолетних жителей Санкт-Петербурга.\n",
        "\n",
        "Генеральная совокупность - все совершеннолетние жители С.П.\n",
        "\n",
        "**ПРОБЛЕМА:** зачастую - генеральная совокупность включает в себя большое количество элементов (сотни тысяч итд), тогда используется метод выборки.\n",
        "\n",
        "Выборка - это часть генеральной совокупности, которую непосредственно исследуют.\n",
        "\n",
        "Выборка должна быть **репрезентативной**, то есть выборка должна быть моделью генеральной совокупности (отражать ее свойства)\n",
        "\n",
        "### Задача 1\n",
        "\n",
        "Если мы провели исследование с целью выявить уровень знаний в области биологии на 100 студентах биологического факультета СПбГУ, то на какую совокупность мы можем распространить наши выводы?\n",
        "\n",
        "Ответ: Студенты биологического факультета СПБГУ\n",
        "\n",
        "### Задача 2\n",
        "\n",
        "Если объем выборки достаточно велик (больше 100), то такая выборка является репрезентативной.\n",
        "\n",
        "Ответ: Зависит от способа формирования выборки\n",
        "\n",
        "\n",
        "\n",
        "\n",
        "\n",
        "\n"
      ],
      "metadata": {
        "id": "_Vo0UWIkzpD0"
      }
    },
    {
      "cell_type": "markdown",
      "source": [
        "### Простая случайная выборка (simple random sample)\n",
        "\n",
        "Это выборка из генеральной совокупности **случайным** образом.\n",
        "\n",
        "Данный метод напоминает собой игру \"шляпу\" когда мы совершенно случайно выбираем только некоторых представителей генеральной совокупности и мы можем заметить что при увеличение объёма нашей случайной выборки, она постепенно начинает напоминать генеральную совокупность по своим характеристиками"
      ],
      "metadata": {
        "id": "reUCEsQyCoH_"
      }
    },
    {
      "cell_type": "markdown",
      "source": [
        "### Стратифицированная выборка (stratified sample)\n",
        "\n",
        "Это выборка с разделением генеральной совокупности на группы (страты) по определенным признакам, далее из всех страт случайным образом выбираются элементы для последующего исследования.\n",
        "\n",
        "**Например:** разделение групп по полу - мужчины и женщины"
      ],
      "metadata": {
        "id": "cF7ty6PXCmZw"
      }
    },
    {
      "cell_type": "markdown",
      "source": [
        "### Групповая выборка (cluster sample)\n",
        "\n",
        "Это выборка с разделением генеральной совокупности на группы (кластеры), которые по своим признакам (в отличии от стратифицированной выборки) похожи друг на друга.\n",
        "\n",
        "**Например:** разделить население города на географические районы, которые по идее не сильно отличаются друг от друга. Тогда можно выбрать только из некоторых районов, а не исследовать все."
      ],
      "metadata": {
        "id": "YOkPp5fjClFF"
      }
    },
    {
      "cell_type": "markdown",
      "source": [
        "## Типы переменных\n",
        "\n",
        "Выборка формируется для исследования некоторых характеристик (переменных) генеральной совокупности\n",
        "\n",
        "\n",
        "\n",
        "\n",
        "\n"
      ],
      "metadata": {
        "id": "Q1UJJf834Tm6"
      }
    },
    {
      "cell_type": "markdown",
      "source": [],
      "metadata": {
        "id": "cRstAknlCfsz"
      }
    },
    {
      "cell_type": "markdown",
      "source": [
        "### Количественные переменные\n",
        "\n",
        "Это измеренные значения некоторого признака.\n",
        "\n",
        "**Например:** рост испытуемых\n",
        "\n",
        "Есть два вида:\n",
        "- Непрерывные - могут принимать любые значения на заданном промежутке (например рост)\n",
        "- Дискретные - могут принимать только определенные значения (например число детей в семье - не может быть дробным)\n",
        "\n",
        "**Хороший пример** это аналоговый и цифровой сигнал - у аналогового сигнала возможны значения на интервале, а цифровой сигнал \"статичен\"\n",
        "\n",
        "P.S. То, что здесь показано, как непрерывные данные, по сути является множеством вещественных чисел в интервале 160 ... 190. То, что показано, как дискретные - множество натуральных чисел. В этом контексте первые - непрерывные значения, вторые - дискретные.\n",
        "Пространство и время являются непрерывными. **Но при определении практических задач обычно непрерывные понятия дискретизируют**. Допустим, мы исследуем влияние выбросов завода на город: в какую сторону будут переноситься выбросы и как будет изменяться их концентрация со временем. Расчетные уравнения будем считать через дискретные интервалы времени, не важно, целые или вещественные: час, 1,5 часа, сутки, 1,5 суток. С пространством аналогично: есть начальное состояние вещества, как оно изменится после прохождения расстояния в одну дискретную ячейку расчетной сетки, представляющую ограниченную область пространства.\n",
        "**Так что, хоть величины и могут быть непрерывными, но измерять/исследовать мы можем их дискретно.** Особенно в статистике. Нам не нужно измерять рост с точностью до микрон или еще меньше. Для статистики, может быть достаточно сведения о росте с точностью до +/- 5 см. Вот вам сразу дискретный ряд. Тоже касается и возраста. А количество детей - это просто множество натуральных чисел в очень узком диапазоне значений, они просто не могут быть вещественными. Любое количество (помидоров, слонов, детей) мы исчисляем натуральными числами. \n",
        "\n",
        "**Дискретизация** - это представление непрерывного множества в виде дискретного множества, в котором все значения как бы изолированы друг от друга. \n",
        "\n",
        "Кривая роста от 0 до 2,5 метра - это дискретное множество, но статистическая таблица, рост/кол-во человек, где рост принимает конкретные значения: меньше 30, 31-50, 51-100, 101-120, 121-140 и т.д. - это уже дискретные значения. Тоже справедливо для возраста."
      ],
      "metadata": {
        "id": "9MZ7KCTdCfwm"
      }
    },
    {
      "cell_type": "markdown",
      "source": [
        "\n",
        "### Номинативные (качественные) переменные\n",
        "\n",
        "Используется для разделения групп иследований на группы.\n",
        "\n",
        "**Например:** Мужчины будут под цифрой - 1, а женщины - 2\n",
        "\n",
        "При использовании номинативных переменных за цифрами нет математического смысла, в то же время количественные переменные мы можем использовать в расчетах."
      ],
      "metadata": {
        "id": "rtEdra4XCcjh"
      }
    },
    {
      "cell_type": "markdown",
      "source": [
        "### Ранговые (порядковые) переменные\n",
        "\n",
        "Это качественные переменные, к которым возможны только математические операции сравнения.\n",
        "\n",
        "**Например:** первый, второй и третий чемпион по боксу. Первый выше второго, второй выше третьего. Неизвестно во сколько или на сколько раз они выше."
      ],
      "metadata": {
        "id": "TDt5m9J3CaaI"
      }
    },
    {
      "cell_type": "markdown",
      "source": [
        "### Вопросы\n",
        "\n",
        "### Два основных типа переменных в статистике:\n",
        "\n",
        "Качественные и количественные\n",
        "\n",
        "### Если рост 10 участников исследования представлен в ранговой шкале (по убыванию: 1-самый высокий, 2 - ниже и т.д.), тогда верным утверждением будет:\n",
        "\n",
        "Испытуемый с рангом 4 выше, чем испытуемый с рангом 6, но ниже, чем испытуемый с рангом 2."
      ],
      "metadata": {
        "id": "Ey_81SzECX0P"
      }
    },
    {
      "cell_type": "markdown",
      "source": [
        "## Описательные статистики - Меры центральной тенденции\n",
        "\n",
        "Для исследования номинативных признаков нужно просто посмотреть какое количество наблюдений оказалось в той или иной группе.\n",
        "\n",
        "Для исследования распределение количественного признака используется гистограмма частот.\n",
        "\n",
        "Для того чтобы исследовать распределения некоторой переменной есть два типа описательной статистики:\n",
        "\n",
        "1. Меры центральной тенденции - На сколько в принципе высокие значения принимает наша переменная? \n",
        "2. Меры изменчивости - вариативность, то есть какой диапазон на котором могут возникать наши наблюдения более широкий?\n"
      ],
      "metadata": {
        "id": "woBBnRew8B3w"
      }
    },
    {
      "cell_type": "markdown",
      "source": [
        "### Мода\n",
        "\n",
        "На руках есть тысячи значений некоторой количественной переменной, а нужно описать их всех одним числом, максимально описывающим распределение - один из вариантов это использовать моду.\n",
        "\n",
        "Мода (Mode) - значение измеряемого признака, которое встречается максимально часто. Может быть комплексным, то есть состоять из нескольких результатов.\n",
        "\n",
        "**Например:** есть список чисел, мода из них является часто встречающимся числом (172), но если есть несколько часто-одиннаково встречающихся значений, то можно использовать сразу несколько мод (169, 172)\n"
      ],
      "metadata": {
        "id": "qXvd1KMBCSNq"
      }
    },
    {
      "cell_type": "code",
      "source": [
        "import pandas as pd\n",
        "\n",
        "sample = [185,175,170,169,171,172,175,157,170,172,167,173,168,167,166,167,\n",
        "    169,172,177,178,165,161,179,159,164,178,172,170,173,171]\n",
        "\n",
        "sr = pd.Series(sample)\n",
        "\n",
        "print(sr.mode())"
      ],
      "metadata": {
        "colab": {
          "base_uri": "https://localhost:8080/"
        },
        "id": "_7yQqPrCCFPs",
        "outputId": "55579794-df95-40d2-a064-776f6683c45e"
      },
      "execution_count": null,
      "outputs": [
        {
          "output_type": "stream",
          "name": "stdout",
          "text": [
            "0    172\n",
            "dtype: int64\n"
          ]
        }
      ]
    },
    {
      "cell_type": "markdown",
      "source": [
        "### Медиана\n",
        "\n",
        "Медиана (median) - это значение признака, которое делит **упорядоченное** множество данных **пополам**.\n",
        "\n",
        "**Например:** есть упорядоченный список значений из 4 элементов\n",
        "[1, 2, 3, 4] и медианой будет являться среднее арифметическое между двумя значениями по центру ((2+3)/2 = 2.5)\n",
        "\n",
        "\n",
        "*   Новый пункт\n",
        "*   Новый пункт\n",
        "\n"
      ],
      "metadata": {
        "id": "bIFuN6xJCDUl"
      }
    },
    {
      "cell_type": "code",
      "source": [
        "\n",
        "import numpy as np\n",
        "\n",
        "a = np.array([185,175,170,169,171,172,175,157,170,172,167,173,168,167,166,\n",
        "\n",
        "              167,169,172,177,178,165,161,179,159,164,178,172,170,173,171])\n",
        "m = np.median(a)\n",
        "print(m)"
      ],
      "metadata": {
        "colab": {
          "base_uri": "https://localhost:8080/"
        },
        "id": "uIGN4586B2MT",
        "outputId": "ca4974b7-7c2c-4ba8-ad91-a06c1c243816"
      },
      "execution_count": null,
      "outputs": [
        {
          "output_type": "stream",
          "name": "stdout",
          "text": [
            "170.5\n"
          ]
        }
      ]
    },
    {
      "cell_type": "code",
      "source": [
        "import pandas as pd\n",
        "\n",
        "sample = [185,175,170,169,171,172,175,157,170,172,167,173,168,167,166,167,\n",
        "    169,172,177,178,165,161,179,159,164,178,172,170,173,171]\n",
        "\n",
        "sr = pd.Series(sample)\n",
        "\n",
        "print(sr.median())"
      ],
      "metadata": {
        "colab": {
          "base_uri": "https://localhost:8080/"
        },
        "id": "Cw2oMusaD81Z",
        "outputId": "09f39936-1162-4984-c747-f421fb56b636"
      },
      "execution_count": null,
      "outputs": [
        {
          "output_type": "stream",
          "name": "stdout",
          "text": [
            "170.5\n"
          ]
        }
      ]
    },
    {
      "cell_type": "markdown",
      "source": [
        "### Среднее значение\n",
        "\n",
        "Среднее значение (mean) - это сумма всех значений измеренного признака, деленная на количество измеренных значений.\n"
      ],
      "metadata": {
        "id": "i9ugDFVNCu_5"
      }
    },
    {
      "cell_type": "code",
      "source": [
        "import pandas as pd\n",
        "\n",
        "sample = [185, 175, 170, 169, 171, 175, 157, 172, 170, 172, 167, 173, 168, 167, 166,\n",
        "          167, 169, 172, 177, 178, 165, 161, 179, 159, 164, 178, 172, 170, 173, 171]\n",
        "\n",
        "sr = pd.Series(sample)\n",
        "\n",
        "print(sr.mean())"
      ],
      "metadata": {
        "colab": {
          "base_uri": "https://localhost:8080/"
        },
        "id": "G0qwgO95DW3S",
        "outputId": "9e263ddb-3192-4202-d4fd-0a75c1d81e61"
      },
      "execution_count": null,
      "outputs": [
        {
          "output_type": "stream",
          "name": "stdout",
          "text": [
            "170.4\n"
          ]
        }
      ]
    },
    {
      "cell_type": "markdown",
      "source": [
        "\n",
        "### **Терминология** \n",
        "\n",
        "**Эмпирические данные** - данные полученные опытным путём.\n",
        "\n",
        "**Описательная (дескриптивная) статистика** - обработка данных полученных эмпирическим путём и их систематизация, наглядное представление в форме графиков, таблиц, а также их количественное описание посредством основных статистических показателей.\n",
        "\n",
        "**Распределение вероятностей** - это закон, описывающий область значений случайной величины и вероятность её появления (частоту) в данной области. То есть насколько часто X появляется в данном диапазоне значений.\n",
        "\n",
        "**Гистограмма частот** - ступенчатая функция показывающая насколько часто вероятно появление величины в указанном диапазоне значений."
      ],
      "metadata": {
        "id": "N2O0V-zTB8VF"
      }
    },
    {
      "cell_type": "markdown",
      "source": [
        "### Выводы\n",
        "\n",
        "Если распределение симметрично унимодально (имеет только одну моду) и не имеет явных выбросов (ее не косит), то можно использовать любую из мер центральной тенденции, т.к. они дадут примерно равное значение.\n",
        "\n",
        "В том же случае, если у распределения наблюдается асимметрия, выбросы и несколько мод, то лучше не использовать среднее значение, так как оно модет привести к некорректному результату.\n",
        "\n",
        "### Свойства среднего значения\n",
        "\n",
        "- Если к каждому члену выборки прибавить число, то и среднее значение увеличится на данное число. \n",
        "\n",
        "$$ M_{x+c}=M_{x}+c $$\n",
        "\n",
        "- Если каждый член выборки умножить на заданное число, то и среднее значение увеличится в заданное количество раз.\n",
        "\n",
        "$$ M_{x*c}=M_{x}*c $$\n",
        "\n",
        "- Сумма отклонений значений от среднего значения выборки равна нулю\n",
        "\n",
        "$$ \t\\sum (x_{i}-M_{x})=0 $$"
      ],
      "metadata": {
        "id": "HCBAVMtnFIaY"
      }
    },
    {
      "cell_type": "markdown",
      "source": [
        "## Меры изменчивости"
      ],
      "metadata": {
        "id": "dHMa6-Dbl7Wq"
      }
    },
    {
      "cell_type": "markdown",
      "source": [
        "### Размах\n",
        "\n",
        "Размах (Range) - это разность между максимальным и минимальным значением распределения.\n",
        "\n",
        "$ R=X_{max}-X_{min} $\n",
        "\n",
        "Недостаток - рассчитывает изменчивость, используя только 2 крайних значения и при их изменении изменится и изменчивость распределения."
      ],
      "metadata": {
        "id": "g-IW2faLl_Wm"
      }
    },
    {
      "cell_type": "markdown",
      "source": [
        "### Дисперсия\n",
        "\n",
        "Рассчитывает изменчивость распределения, используя все его значения.\n",
        "Рассчитывает на сколько **в среднем** значения отклоняются от среднего значения по выборке.\n",
        "\n",
        "Дисперсия (Variance) - **средний квадрат** отклонений индивидуальных значений признака от их **средней** величины.\n",
        "\n",
        "Дисперсия высчитывается:\n",
        "\n",
        "$$ \tD={\\sum (x_{i}-\\overline{x})^2 \\over n} $$ - формула для генеральной совокупности\n",
        "\n",
        "P.S. Береться сумма из квадратов (берутся квадраты, так как по 3-ему признаку среднего значения сумма отклонений значений выборки равна 0) разностей значений и средней величины по выборке и делятся на количество всех значений\n",
        "\n",
        "\n",
        "$$ \tD={\\sum (x_{i}-\\overline{x})^2 \\over n-1} $$ - формула для выборки\n",
        "\n",
        "P.S. минус 1 связана с понятием степени свободы (см. далее)\n",
        "\n",
        "Так как дисперсия это средний квадрат, то для получения изменчивости распределения, нужно вывести корень из дисперсии:\n",
        "\n",
        "$$ \\zeta = \\sqrt{D} $$\n",
        "\n",
        "$$ \\zeta $$ -среднее квадратичное отклонение для **генеральной совокупности**\n",
        "\n",
        "Sd - степень среднего квадратичного отклонения для **выборки**\n",
        "\n",
        "Чем  более сжат график, тем меньше отклонения от среднего, и меньше дисперсия.\n",
        "\n",
        "#### Почему для расчета среднестатистического отклонения нужно возводить разности в квадрат, а не брать их значения по модулю?\n",
        "\n",
        "Такой способ используется - называется линейное отклонение.\n",
        "\n",
        "[Источник](http://univer-nn.ru/statistika/srednee-linejnoe-otklonenie/)"
      ],
      "metadata": {
        "id": "M0agRH87nA7t"
      }
    },
    {
      "cell_type": "code",
      "source": [
        "import numpy as np\n",
        "\n",
        "sample = [185, 175, 170, 169, 171, 175, 157, 172, 170, 172, 167, 173, 168, 167, 166,\n",
        "              167, 169, 172, 177, 178, 165, 161, 179, 159, 164, 178, 172, 170, 173, 171]\n",
        "\n",
        "a = np.array(sample)\n",
        "\n",
        "# numpy.var - Compute the variance along the specified axis\n",
        "\n",
        "# дисперсия как для генеральной совокупности\n",
        "print(np.var(a))\n",
        "# исперсия (N - 1) как для выборки\n",
        "print(np.var(a, ddof=1))\n",
        "\n",
        "# numpy.std - Compute the standard deviation along the specified axis\n",
        "\n",
        "# Среднее квадратичное как для генеральной совокупности\n",
        "print(np.std(a))\n",
        "# Среднее квадратичное (N - 1) как для выборки\n",
        "print(np.std(a, ddof=1))"
      ],
      "metadata": {
        "colab": {
          "base_uri": "https://localhost:8080/"
        },
        "id": "9y64v6xpssB_",
        "outputId": "a2250fd6-d902-4f5e-cfd9-b3cc01d5fc2a"
      },
      "execution_count": null,
      "outputs": [
        {
          "output_type": "stream",
          "name": "stdout",
          "text": [
            "34.839999999999996\n",
            "36.04137931034482\n",
            "5.902541825349482\n",
            "6.0034472855472645\n"
          ]
        }
      ]
    },
    {
      "cell_type": "markdown",
      "source": [
        "### Ошибка выборки\n",
        "\n",
        "Разница в знаменателях n для генеральной совокупности, и n-1 для выборки связана с тем, что называется ошибкой выборки.\n",
        "\n",
        "**Пример**\n",
        "\n",
        "Есть генеральная совокупность. Всего шесть чисел:\n",
        "\n",
        "$$ GS=[1,2,3,4,5,6] $$\n",
        "\n",
        "Среднее значение:\n",
        "\n",
        "$$ \\overline{x}=3,5 $$\n",
        "\n",
        "Сумма квадратов отклонений:\n",
        "\n",
        "$$ \\sum (x_{i}-\\overline{x})^2 = 17,5 $$\n",
        "\n",
        "**Дисперсия: **\n",
        "\n",
        "$$ D={17,5 \\over 6} = 2,92 $$\n",
        "\n",
        "Из этой генеральной совокупности возьмем выборку. Всего три числа:\n",
        "\n",
        "$$ B = [2,3,4] $$\n",
        "\n",
        "Среднее значение:\n",
        "\n",
        "$$ \\overline{x}_{B} = 3 $$\n",
        "\n",
        "Сумма квадратов отклонений \n",
        "\n",
        "$$ \\sum (x_{i}-\\overline{x})^2 = 2 $$\n",
        "\n",
        "Дисперсия В без использования n-1\n",
        "\n",
        "$$ D = {2 \\over 3} = 0,67 $$\n",
        "\n",
        "Дисперсия В с использованием n-1\n",
        "\n",
        "$$ D = {2 \\over 3-1} = 1 $$\n",
        "\n",
        "Отсюда можно сделать **вывод**: дисперсия выборки с использование n-1 ближе к значению дисперсии генеральной совокупности, чем дисперсия выборки без использования n-1.\n",
        "\n",
        "**Т.е. 1 ближе к 2,92, чем 0,67 к 2,92.А это значит, что модель выборки с использованием n-1 будет точнее характеризовать генеральную совокупность и ошибка выборки будет меньше.**\n",
        "\n",
        "\n",
        "\n",
        "\n",
        "\n"
      ],
      "metadata": {
        "id": "oUpHXIWkRiQj"
      }
    },
    {
      "cell_type": "markdown",
      "source": [
        "### Свойства дисперсии\n",
        "\n",
        "1. Если к каждому наблюдению распределения прибавить некоторое число, то ни дисперсия, ни стандартное отклонение распределения не изменятся\n",
        "\n",
        "$$ D_{x+c} = D_{x} $$\n",
        "$$ sd_{x+c} = sd_{x} $$\n",
        "\n",
        "![_1.png](data:image/png;base64,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)\n",
        "\n",
        "\n",
        "2. Если каждое наблюдение распределения умножить на заданное число, то стандартное отклонения распределение увеличится в заданное количество раз, в то же время дисперсия увеличится в квадрат заданного числа.\n",
        "\n",
        "\n",
        "$$ D_{x*c} = D_{x}*c^2 $$\n",
        "$$ sd_{x*c} = sd_{x}*|c| $$\n",
        "\n",
        "P.S. При этом стандартное отклонение должно оставаться неотрицательным\n",
        "\n",
        "![image.png](data:image/png;base64,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)"
      ],
      "metadata": {
        "id": "ZRXxdENTTVX_"
      }
    },
    {
      "cell_type": "code",
      "source": [
        "# Задача\n",
        "\n",
        "import numpy as np\n",
        "\n",
        "sample = [1, 5, 2, 7, 1, 9, 3, 8, 5, 9]\n",
        "\n",
        "arr = np.array(sample)\n",
        "\n",
        "print(\"Дисперсия\", np.var(arr, ddof=1))\n",
        "\n",
        "print(\"Среднеквадратическое отклонение\", np.std(arr, ddof=1))"
      ],
      "metadata": {
        "colab": {
          "base_uri": "https://localhost:8080/"
        },
        "id": "_Z1hfzyZWECm",
        "outputId": "9a1288a4-2d74-44c8-b0cc-bc531c41e92c"
      },
      "execution_count": null,
      "outputs": [
        {
          "output_type": "stream",
          "name": "stdout",
          "text": [
            "Дисперсия 10.0\n",
            "Среднеквадратическое отклонение 3.1622776601683795\n"
          ]
        }
      ]
    },
    {
      "cell_type": "markdown",
      "source": [
        "## Кварти́ли распределения и график box-plot\n",
        "\n",
        "Кванти́ли - это такие значения признака, которые делят упорядоченное распределение на несколько **равных** частей\n",
        "\n",
        "Медиана - точка, которая делит на 2 равные части\n",
        "\n",
        "**Кварти́ли** распределения - это 3 точки (значения признака), делящие упорядоченное множество данных на 4 части\n",
        "\n",
        "Используя квартили, можно сделать график, называемый **box-plot**\n",
        "\n",
        "\n"
      ],
      "metadata": {
        "id": "BBjOHiWXXAh3"
      }
    },
    {
      "cell_type": "markdown",
      "source": [
        "### Box-plot\n",
        "\n",
        "![image.png](data:image/png;base64,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)"
      ],
      "metadata": {
        "id": "cDUtcvdBYH01"
      }
    },
    {
      "cell_type": "markdown",
      "source": [
        "Пояснение\n",
        "\n",
        "(Из вики): Такой вид диаграммы в удобной форме показывает **медиану**, **нижний** и **верхний** квартили, **минимальное** и **максимальное** значение выборки и **выбросы**\n",
        "\n",
        "Такой график иногда называется ящиком с усами\n",
        "\n",
        "Центром данного ящика является медиана (2-ой квартиль данных), соответственно верхняя и нижняя границы - это третий и первый квартиль данных.\n",
        "\n",
        "Разность между третьим и первым квартилем называется **межквартильный размах** (тоже мера изменчивости статистики).\n"
      ],
      "metadata": {
        "id": "c5YEQCPjY0oe"
      }
    },
    {
      "cell_type": "code",
      "source": [
        "import numpy as np\n",
        "import matplotlib.pyplot as plt\n",
        "\n",
        "data_to_plot = np.array([157,159,161,164,165,166,167,167,167,168,169,170,170,170,171,171,172,172,172,172,173,173,175,175,177,178,178,179,185])\n",
        "\n",
        "plt.figure(1,figsize=(5,6))\n",
        "plt.subplot(111)\n",
        "plt.axis([0,1,155,190])\n",
        "plt.boxplot(data_to_plot, showfliers=True)\n",
        "\n",
        "plt.show()"
      ],
      "metadata": {
        "colab": {
          "base_uri": "https://localhost:8080/",
          "height": 528
        },
        "id": "-rQ9EstXZZG1",
        "outputId": "50c93d54-68c2-4593-9e70-12b196e83b66"
      },
      "execution_count": null,
      "outputs": [
        {
          "output_type": "display_data",
          "data": {
            "text/plain": [
              "<Figure size 500x600 with 1 Axes>"
            ],
            "image/png": "[encoded data removed]"
          },
          "metadata": {}
        }
      ]
    },
    {
      "cell_type": "code",
      "source": [
        "import pandas as pd\n",
        "# высота\n",
        "hights = [157,159,161,164,165,166,167,167,167,168,169,169,170,170,170,171,171,172,172,172,172,173,173,175,175,177,178,178,179,185]\n",
        "\n",
        "\n",
        "# создать таблицу со столбцом hights\n",
        "df = pd.DataFrame({'hights':hights})\n",
        "# вывести график\n",
        "df.plot.box()"
      ],
      "metadata": {
        "colab": {
          "base_uri": "https://localhost:8080/",
          "height": 448
        },
        "id": "9dqAmuKTZare",
        "outputId": "4cc7f9db-0399-4370-d305-5600787b3199"
      },
      "execution_count": null,
      "outputs": [
        {
          "output_type": "execute_result",
          "data": {
            "text/plain": [
              "<Axes: >"
            ]
          },
          "metadata": {},
          "execution_count": 6
        },
        {
          "output_type": "display_data",
          "data": {
            "text/plain": [
              "<Figure size 640x480 with 1 Axes>"
            ],
            "image/png": "[encoded data removed]"
          },
          "metadata": {}
        }
      ]
    },
    {
      "cell_type": "markdown",
      "source": [
        "Обычно на оси x находится название группы, для которой построен данный график. "
      ],
      "metadata": {
        "id": "TcGFlfmoa5TE"
      }
    },
    {
      "cell_type": "code",
      "source": [
        "import seaborn as sns\n",
        "hights = [157,159,161,164,165,166,167,167,167,168,169,169,170,170,170,171,171,172,172,172,172,173,173,175,175,177,178,178,179,185]\n",
        "ax = sns.boxplot(y=hights)\n",
        "ax = sns.swarmplot(y=hights, color=\"#00ffa6\")\n",
        "print(ax)"
      ],
      "metadata": {
        "colab": {
          "base_uri": "https://localhost:8080/",
          "height": 429
        },
        "id": "AkWj3BtDbDSG",
        "outputId": "9a6093a7-4554-46dd-bd41-80dc71a3a61a"
      },
      "execution_count": null,
      "outputs": [
        {
          "output_type": "stream",
          "name": "stdout",
          "text": [
            "Axes(0.125,0.11;0.775x0.77)\n"
          ]
        },
        {
          "output_type": "display_data",
          "data": {
            "text/plain": [
              "<Figure size 640x480 with 1 Axes>"
            ],
            "image/png": "[encoded data removed]"
          },
          "metadata": {}
        }
      ]
    },
    {
      "cell_type": "markdown",
      "source": [
        "## Нормальное распределение\n",
        "\n",
        "Нормальное распределение должно быть:\n",
        "\n",
        "1. Унимодально (иметь только одну моду)\n",
        "\n",
        "2. Симметрично (не скашиться в стороны)\n",
        "\n",
        "3. Отклонения наблюдений от среднего подчиняются определенному вероятностному закону. (если от среднего на x шагов уйти вправо, потом  уйти от среднего влево на х шагов и измерить наблюдение, то результат будет одиннаковый)\n",
        "\n",
        "[Распределение Гаусса](https://www.youtube.com/watch?v=GANHXlMpVMc)\n",
        "\n",
        "Z-стандартизация - это преобразование данных, которое позволяет привести **любую** шкалу к типу, где среднее значение равняется НУЛЮ, а стандартное отклонение равняется ЕДИНИЦЕ."
      ],
      "metadata": {
        "id": "s3vqyPWXd4Dl"
      }
    },
    {
      "cell_type": "markdown",
      "source": [
        "### Стандартизация\n",
        "\n",
        "Стандартизация или z-преобразование - это преобразование полученных данных в стандартую Z-шкалу (Z-scores) со средним $ M_{z}=0 $ и $ D_{z}=1 $ \n",
        "\n",
        "\n",
        "$$ Z_{i} = {x_{i} - \\overline{x} \\over sd} $$\n",
        "\n",
        "Как пришли к этой формуле?\n",
        "\n",
        "Так как среднее должно получиться нулю (а мы из каждого наблюдения вычитаем среднее и следовательно из среднего тоже), то нужно из среднего вычесть само среднее и оно получется равным нулю\n",
        "$$ \\overline{x} - \\overline{x} = 0 $$\n",
        "\n",
        "Почему делим на стандартное отклонение?\n",
        "\n",
        "Так как дисперсия должна получиться единице (и мы делим каждое наблюдение на стандартное отклонение), а дисперсия это квадрат из стандартного отклонения, то\n",
        "\n",
        "$ D_{x} * ({ 1 \\over sd })^2 $,то\n",
        "\n",
        "$ D_{x} * { 1 \\over D_{x} } = 1 $"
      ],
      "metadata": {
        "id": "tqX1NgT2juDY"
      }
    },
    {
      "cell_type": "markdown",
      "source": [
        "#### Задача\n",
        "Z - преобразование часто используется, чтобы все наблюдения перевести в z - шкалу (M = 0, sd = 1) для упрощения работы с данными. Однако иногда нам необходимо рассчитать z - значение только для отдельно взятого наблюдения, чтоб выяснить насколько далеко оно отклоняется от среднего значения в единицах стандартного отклонения.\n",
        "\n",
        "Вернемся к нашему примеру с ростом людей. Допустим, мы измерили рост 1000 человек, данное распределение оказалось нормальным со средним равным 175 и стандартным отклонением равным 8 (M = 175, sd = 8). Рост одного из испытуемых составил 186,2. Чему равняется z - значение, рассчитанное для этого испытуемого?\n",
        "\n"
      ],
      "metadata": {
        "id": "T8fDu8UTmksX"
      }
    },
    {
      "cell_type": "code",
      "source": [
        "# Велосипед, ну да ладно\n",
        "n = 1000\n",
        "m = 175\n",
        "sd = 8\n",
        "\n",
        "h_find = 186.2\n",
        "\n",
        "# Подставляем формулу\n",
        "z = (h_find - m) / sd\n",
        "\n",
        "print(z)"
      ],
      "metadata": {
        "colab": {
          "base_uri": "https://localhost:8080/"
        },
        "id": "GBsG4gjvmixW",
        "outputId": "855c55e7-23ab-45d1-97d0-1d32f01b04e6"
      },
      "execution_count": null,
      "outputs": [
        {
          "output_type": "stream",
          "name": "stdout",
          "text": [
            "1.3999999999999986\n"
          ]
        }
      ]
    },
    {
      "cell_type": "markdown",
      "source": [
        "### Правило \"двух\" и \"трех\" сигм\n",
        "\n",
        "$$ M_{x} \\pm \\sigma \\approx 68\\% $$ \n",
        "$$ M_{x} \\pm 2\\sigma \\approx 95\\% $$ \n",
        "$$ M_{x} \\pm 3\\sigma \\approx 100\\% $$ \n",
        "\n",
        "Если коротко - вычислить значение для данной точки по z-шкале и по таблице-z найти значение.\n",
        "\n",
        "ПОПОДРОБНЕЕ ИЗУЧИТЬ\n",
        "\n",
        "[Таблица](http://statsoft.ru/home/textbook/modules/sttable.html)\n",
        "\n",
        "[Как использовать таблицу Z](https://www.codecamp.ru/blog/how-to-use-z-table/)"
      ],
      "metadata": {
        "id": "Df-q9tjRnvnF"
      }
    },
    {
      "cell_type": "code",
      "source": [
        "import scipy.stats as st\n",
        "\n",
        "print(1 - st.norm.cdf(0.5))"
      ],
      "metadata": {
        "colab": {
          "base_uri": "https://localhost:8080/"
        },
        "id": "dG68ts2Lpr_z",
        "outputId": "9b1b0214-aaba-4b24-d5c1-c748f823a738"
      },
      "execution_count": null,
      "outputs": [
        {
          "output_type": "stream",
          "name": "stdout",
          "text": [
            "0.3085375387259869\n"
          ]
        }
      ]
    },
    {
      "cell_type": "markdown",
      "source": [
        "### Задача\n",
        "\n",
        "Считается, что значение IQ (уровень интеллекта) у людей имеет нормальное распределение со средним значением равным 100 и стандартным отклонением равным 15 (M = 100, sd = 15).\n",
        "\n",
        " \n",
        "\n",
        "Какой приблизительно процент людей обладает IQ > 125?\n"
      ],
      "metadata": {
        "id": "dXnemYf7ucap"
      }
    },
    {
      "cell_type": "code",
      "source": [
        "import scipy.stats as st\n",
        "\n",
        "# Велосипед\n",
        "z = (125-100) / 15\n",
        "\n",
        "result = round((1-st.norm.cdf(z)) * 100)\n",
        "\n",
        "print(\"Велосипед\", result)\n",
        "\n",
        "# Библиотека\n",
        "norm = st.norm(100, 15)\n",
        "\n",
        "result = round((1 - norm.cdf(125)) * 100)\n",
        "\n",
        "print(\"Библиотека\", result)"
      ],
      "metadata": {
        "colab": {
          "base_uri": "https://localhost:8080/"
        },
        "id": "l9ZFD3TyueCb",
        "outputId": "5cceae42-363e-4d80-91d4-169c8de2318e"
      },
      "execution_count": null,
      "outputs": [
        {
          "output_type": "stream",
          "name": "stdout",
          "text": [
            "Велосипед 5\n",
            "Библиотека 5\n"
          ]
        }
      ]
    },
    {
      "cell_type": "markdown",
      "source": [
        "### Задача\n",
        "\n",
        "Считается, что значение IQ (уровень интеллекта) у людей имеет нормальное распределение со средним значением равным 100 и стандартным отклонением равным 15 (M = 100, sd = 15).\n",
        "\n",
        "Какой приблизительно процент людей обладает IQ  на промежутке от 70 до 112 "
      ],
      "metadata": {
        "id": "csNKQFJBu66T"
      }
    },
    {
      "cell_type": "code",
      "source": [
        "import scipy.stats as st\n",
        "\n",
        "# st.norm() - создает нормальное распределение с указанными средним и отклонением\n",
        "norm = st.norm(100, 15)\n",
        "# cdf() - находит процент значений в диапазоне от наименьшего до указанного\n",
        "result = (norm.cdf(112) - norm.cdf(70)) * 100\n",
        "\n",
        "print(round(result))\n"
      ],
      "metadata": {
        "colab": {
          "base_uri": "https://localhost:8080/"
        },
        "id": "oF4VneyLu9qg",
        "outputId": "163592e5-11e0-41de-b83c-11a58651c56f"
      },
      "execution_count": null,
      "outputs": [
        {
          "output_type": "stream",
          "name": "stdout",
          "text": [
            "77\n"
          ]
        }
      ]
    },
    {
      "cell_type": "markdown",
      "source": [
        "## Центральная предельная теорема\n",
        "\n",
        "Исследование\n",
        "\n",
        "Исследуем некий **признак** генеральной совокупности. Этот признак может иметь любое распределение.\n",
        "\n",
        "Сформируем на основе генеральной совокупности несколько **выборочных** совокупностей. Для каждой выборочной совокупности найдем ее **среднее значение**. По мере увеличения количества выборочных совокупностей их средние значения будут стремиться к нормальной форме.\n",
        "\n",
        "Таким образом, центральная предельная теорема гласит о том, что если взять бесконечное количество выборок, то распределение их среднего значения станет по-настоящему нормальным, а пока выборок меньше, распределение стремится к нормальному. \n",
        "\n",
        "Более того, среднее этого распределения будет равняться среднему генеральной совокупности, а стандартное отклонение будет называться «стандартной ошибкой».\n",
        "\n",
        "Если увеличить размер выборки, то сильные отклонения выборочных средних от истинного среднего будут возникать \n",
        "**Реже**, распределение выборочных средних станет более узким\n",
        "\n",
        "$$ se = { \\delta \\over \\sqrt{n}} = { sd_{x} \\over \\sqrt{n}} $$\n",
        "\n",
        ",где se - стандартная ошибка среднего,\n",
        "\n",
        "$ \\delta $ - стандартное отклонение признаков генеральной совокупности,\n",
        "\n",
        "$ n $ - количество выборок,\n",
        "\n",
        "$ sd_{x} $ - стандартное отклонение выборки, **при** $ n \\ge 30 $ \n",
        "\n",
        "\n"
      ],
      "metadata": {
        "id": "3mJ8QcdPuUzB"
      }
    },
    {
      "cell_type": "markdown",
      "source": [
        "### Пояснение\n",
        "\n",
        "Возьмём игральную кость и бросим её. Она покажет нам значение от 1 до 6. Будем считать, что кость идеальная и каждое из значений равновероятно. Результатом нашего испытания является число от 1 до 6, появление каждого из которых равновероятно.\n",
        "\n",
        "Теперь усложняем эксперимент берём две \"идеальных\" кости, кидаем и в качестве результата эксперимента берём сумму показаний обоих костей. Сумма уже не имеет равновероятного распределения. Она принимает значения от 2 до 12 и при этом количество комбинаций, при которых получается число 7 составляет 6, в то время как способов составить любые другие варианты результата получается меньше. Таким образом выпадение различных испытаний нашего испытания (которые принимают значения от 2 до 12) уже не равновероятно. Если мы попытаемся нарисовать гистограмму нашего распределения, мы увидим пирамиду с максимумом в значении 7.\n",
        "\n",
        "Если мы рассмотрим 5 костей и проделаем те же операции, то, посмотрев на результаты испытаний, мы увидим забавную картину:\n",
        "\n",
        "\n"
      ],
      "metadata": {
        "id": "MkkUlgK_5_r0"
      }
    },
    {
      "cell_type": "code",
      "source": [
        "import pandas as pd\n",
        "from random import randint\n",
        "\n",
        "times = 100\n",
        "dice_count = 3\n",
        "\n",
        "result_data = []\n",
        "\n",
        "for i in range(times):\n",
        "  sum_iter = sum([randint(1, 6) for j in range(dice_count)])\n",
        "  result_data.append(sum_iter)\n",
        "\n",
        "df = pd.DataFrame({'value':result_data})\n",
        "\n",
        "df.value.value_counts().sort_index().plot(kind='bar', grid=True, sort_columns=True).grid(axis='x')\n",
        "\n",
        "\n"
      ],
      "metadata": {
        "colab": {
          "base_uri": "https://localhost:8080/",
          "height": 470
        },
        "id": "Ir3KNOgR6IGJ",
        "outputId": "fda390e7-2ea3-4333-9110-b3420227e6ec"
      },
      "execution_count": null,
      "outputs": [
        {
          "output_type": "stream",
          "name": "stderr",
          "text": [
            "<ipython-input-94-cd802323fce0>:15: FutureWarning: `sort_columns` is deprecated and will be removed in a future version.\n",
            "  df.value.value_counts().sort_index().plot(kind='bar', grid=True, sort_columns=True).grid(axis='x')\n"
          ]
        },
        {
          "output_type": "display_data",
          "data": {
            "text/plain": [
              "<Figure size 640x480 with 1 Axes>"
            ],
            "image/png": "[encoded data removed]"
          },
          "metadata": {}
        }
      ]
    },
    {
      "cell_type": "markdown",
      "source": [
        "Что-то напоминает, не так ли?\n",
        "Далее, усложняем наш эксперимент, многократно увеличивая число костей. В итоге, с каждым последующим увеличением числа костей мы будем  получать распределение комбинаций получения различных результатов всё более и более близким к нормальному распределению. А поскольку выпадение каждого результата на отдельной кости равновероятно, то при многократном повторении испытания при фиксированном числе костей гистограмма будет отражать частоту появления каждого результата.\n",
        "\n",
        "Именно в этом сила и смысл ЦПТ. Если на результат воздействует множество независимых мелких факторов, то результирующая величина будет иметь распределение близкое к нормальному. В этом её суть, если изложить её простым языком.\n",
        "\n",
        "(Второй её глубинной сутью является то, что при многократном повторении испытаний относительная частота появления случайной величины становится приблизительно равной её вероятности. Но это относится не к обсуждаемой теме.)\n",
        "\n"
      ],
      "metadata": {
        "id": "nzWzQV0_6Hgn"
      }
    },
    {
      "cell_type": "code",
      "source": [
        "# Рассчитайте стандартную ошибку среднего, если выборочное среднее равняется 10, дисперсия 4, при N = 100\n",
        "\n",
        "m = 10\n",
        "d = 4\n",
        "n = 100\n",
        "res = d**0.5 / n**0.5\n",
        "\n",
        "print(res)"
      ],
      "metadata": {
        "colab": {
          "base_uri": "https://localhost:8080/"
        },
        "id": "0xixvb0CBWuf",
        "outputId": "deca302e-57ba-447e-ed59-8c0d8a6a700c"
      },
      "execution_count": null,
      "outputs": [
        {
          "output_type": "stream",
          "name": "stdout",
          "text": [
            "0.2\n"
          ]
        }
      ]
    },
    {
      "cell_type": "markdown",
      "source": [
        "#### P.S.\n",
        "\n",
        "Для тех, кто также запутался в терминах и устал биться головой о стену противоречивых формулировок, смотря видео на скорости 0.75 по 3 раза, привожу цитату из книги Уилана Чарльза «Голая статистика. Самая интересная книга о самой скучной науке», которая может помочь немного распутаться:\n",
        "\n",
        "«Стандартная ошибка измеряет разброс средних значений выборок. Насколько предположительно близко они будут группироваться вокруг среднего значения совокупности? Здесь возможна некоторая путаница, поскольку вам уже известны два разных показателя разброса: среднеквадратическое (стандартное) отклонение и стандартная (среднеквадратическая) ошибка. Чтобы внести ясность в этот вопрос, нужно учитывать следующее.\n",
        "1. Среднеквадратическое отклонение измеряет разброс в исходной совокупности.\n",
        "2. Стандартная ошибка измеряет разброс средних значений выборок.\n",
        "3. Вот что связывает между собой эти две концепции: стандартная ошибка является среднеквадратическим отклонением средних значений выборок! Замечательно, не правда ли?\n",
        "Большая стандартная ошибка означает, что средние значения выборок разбросаны на значительных расстояниях от среднего значения совокупности; малая стандартная ошибка означает, что средние значения выборок располагаются относительно близко вокруг среднего значения совокупности.»\n",
        "\n"
      ],
      "metadata": {
        "id": "1s9Bsjz-DK-O"
      }
    }
  ]
}